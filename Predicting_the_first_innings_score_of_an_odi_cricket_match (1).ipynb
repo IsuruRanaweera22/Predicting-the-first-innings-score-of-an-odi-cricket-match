{
  "nbformat": 4,
  "nbformat_minor": 0,
  "metadata": {
    "colab": {
      "provenance": []
    },
    "kernelspec": {
      "name": "python3",
      "display_name": "Python 3"
    }
  },
  "cells": [
    {
      "cell_type": "code",
      "metadata": {
        "id": "23BoP1bx_aK7"
      },
      "source": [
        "os.chdir(r'/content/drive/My Drive/Colab Notebooks/MLproject/cricketdata') #changes folder path to working directory\n",
        "\n",
        "filelist=glob.glob('*.csv') #creates a list of all csv files in the folder."
      ],
      "execution_count": null,
      "outputs": []
    },
    {
      "cell_type": "code",
      "metadata": {
        "id": "syeUNNfh_Ixc",
        "colab": {
          "base_uri": "https://localhost:8080/",
          "height": 34
        },
        "outputId": "02a1f724-87d0-43f2-ae27-ee302fd58efa"
      },
      "source": [
        "from google.colab import drive\n",
        "drive.mount(\"/content/drive/\")\n",
        "\n",
        "import pandas as pd \n",
        "import matplotlib.pyplot as plt\n",
        "import numpy as np\n",
        "import seaborn as sb\n",
        "from google.colab import files\n",
        "import os \n",
        "import glob\n"
      ],
      "execution_count": null,
      "outputs": [
        {
          "output_type": "stream",
          "text": [
            "Drive already mounted at /content/drive/; to attempt to forcibly remount, call drive.mount(\"/content/drive/\", force_remount=True).\n"
          ],
          "name": "stdout"
        }
      ]
    },
    {
      "cell_type": "code",
      "metadata": {
        "id": "FZ81JtkQACOs"
      },
      "source": [
        "matches=[]\n",
        "detail=[]\n",
        "teamsandcity=[]\n",
        "odiallmatches=[]\n",
        "firstbatscore=[]\n",
        "dframeprev = pd.DataFrame()\n",
        "\n",
        "for file in filelist: # Looping through the csv files in the folder.\n",
        "  \n",
        "  try:\n",
        "    df=pd.read_csv(file, skiprows=20, header=None) #Creating a dataframe for each csv file.\n",
        "    match=df.to_numpy()  #Converting each dataframe into a numpy array\n",
        "    matches.append(match) #Updating a list of numpy arrays.\n",
        "  except:\n",
        "    pass\n",
        "\n",
        "#Extracting necessary features from each csv file.(Number of overs,Number of wickets,Runs at the instance,Batsman1score,Batsman2score,Current pathnership.) \n",
        "for i,file in zip(matches,filelist):\n",
        "  batfirst=i[np.where(i[:,1]==1)]  \n",
        "  batsecond=i[np.where(i[:,1]==2)]\n",
        "\n",
        "  numberofovers=batfirst[:,2]\n",
        "  runs=batfirst[:,7]+batfirst[:,8]\n",
        "  runsataninstance=np.cumsum(batfirst[:,7]+batfirst[:,8])\n",
        "\n",
        "\n",
        "  batter1=batfirst[:,4]\n",
        "  batter2=batfirst[:,5]\n",
        "  batter1runs=batfirst[:,7]\n",
        "  batter2runs=batfirst[:,8]\n",
        "  batter1score=[]\n",
        "  batter2score=[]\n",
        "  m=0\n",
        "  u=0\n",
        "  temp=0\n",
        "  for p,q,r,s in zip(range(0,len(batter1)),range(0,len(batter2)),batter1runs,batter2runs):\n",
        "    m+=r\n",
        "    u+=s\n",
        "    batter1score.append(m)\n",
        "    batter2score.append(u)\n",
        "    temp=0\n",
        "    if batter1[p]==batter1[p-1] and batter2[q]==batter2[q-1]:\n",
        "      continue\n",
        "    elif batter1[p]==batter2[q-1] and batter2[q]==batter1[p-1]:\n",
        "      temp=m\n",
        "      m=u\n",
        "      u=temp\n",
        "      \n",
        "     \n",
        "    elif batter1[p]!=batter1[p-1] and batter2[q]==batter2[q-1]: \n",
        "      m=0\n",
        "      \n",
        "    elif batter1[p]==batter1[p-1] and batter2[q]!=batter2[q-1]:\n",
        "      u=0\n",
        "      \n",
        "    elif batter1[p]==batter2[q-1] and batter2[q]!=batter1[p-1]:\n",
        "      m=u\n",
        "      u=0\n",
        "      \n",
        "    else:\n",
        "      u=m\n",
        "      m=0\n",
        "  \n",
        "  \n",
        "  finalscore=[]\n",
        "  for j in batfirst:\n",
        "    finalscore.append(runsataninstance[-1])\n",
        "\n",
        "  wickets=[]\n",
        "  j=0\n",
        "  for i in batfirst[:,9]:\n",
        "    if i == 'bowled':\n",
        "      j=1\n",
        "    elif i=='caught':\n",
        "      j=1\n",
        "    elif i=='run out':\n",
        "      j=1\n",
        "    elif i=='stumped':\n",
        "      j=1\n",
        "    elif i=='lbw':\n",
        "      j=1\n",
        "    else:\n",
        "      j=0\n",
        "    wickets.append(j)\n",
        "\n",
        "    fallofwickets=np.cumsum(wickets)\n",
        "\n",
        "  if fallofwickets[-1]<10 and numberofovers[-1]<49.6:\n",
        "    continue\n",
        "\n",
        "\n",
        "  pathnerships=[]\n",
        "  pathner=0\n",
        "\n",
        "  for (p,r) in zip(range(0,len(fallofwickets)),runs):\n",
        "    if fallofwickets[p]==fallofwickets[p-1]:\n",
        "      pathner=pathner+r\n",
        "      pathnerships.append(pathner)\n",
        "    else:\n",
        "      pathner=0\n",
        "      pathnerships.append(pathner)\n",
        "\n",
        "\n",
        " \n",
        "  detail=pd.read_csv(file,header=None,sep='\\n') \n",
        "  details=detail[0:10]\n",
        "  details.loc[[1,2,8]]\n",
        "  details=details.to_numpy()\n",
        "  data=details[[1,2,8]]\n",
        "  matchinfo=[]\n",
        "  for d in data:\n",
        "    for h in d:\n",
        "      matchinfo.append(h)\n",
        "  teamsandcity=[]\n",
        "  for j in matchinfo:\n",
        "    neededdetails = j.split(\",\")\n",
        "    teamsandcity.append(neededdetails)\n",
        "  batteam=teamsandcity[0][2]\n",
        "  bowlteam=teamsandcity[1][2]\n",
        "  venue=teamsandcity[2][2]\n",
        "\n",
        "  battingteam = []\n",
        "  bowlingteam = []\n",
        "  city = []\n",
        "  for k in batfirst:\n",
        "    battingteam.append(batteam)\n",
        "    bowlingteam.append(bowlteam)\n",
        "    city.append(venue)\n",
        "  battingteam=np.array(battingteam)\n",
        "  bowlingteam=np.array(bowlingteam)\n",
        "  city=np.array(city)\n",
        "\n",
        "  finalscore=np.array(finalscore)\n",
        "  pathnerships=np.array(pathnerships)\n",
        "  runsataninstance=np.array(runsataninstance)\n",
        "  fallofwickets=np.array(fallofwickets)\n",
        "  numberofovers=np.array(numberofovers)\n",
        "  batter1score=np.array(batter1score)\n",
        "  batter2score=np.array(batter2score)\n",
        "\n",
        "  odimatchdata=[numberofovers,fallofwickets,runsataninstance,batter1score,batter2score,pathnerships,battingteam,bowlingteam,city,finalscore]\n",
        "  dframe=pd.DataFrame(odimatchdata)\n",
        "  d=dframe.T\n",
        "  d=d.iloc[124:,:]\n",
        "  dframeprev=dframeprev.append(d)#Combining all the dataframes into a one dataframe for apply machine learning algorithms.\n",
        "  \n",
        "\n",
        "  "
      ],
      "execution_count": null,
      "outputs": []
    },
    {
      "cell_type": "code",
      "metadata": {
        "id": "t6XWDLv5_ldw"
      },
      "source": [
        "dframeprev = dframeprev.set_axis(['Overs', 'Wickets', 'Runsatinstance', 'Batsman1score', 'Batsman2score','Currentpathnership','Battingteam','Bowlingteam','Venue','Finalscore'], axis=1, inplace=False)"
      ],
      "execution_count": null,
      "outputs": []
    },
    {
      "cell_type": "code",
      "metadata": {
        "id": "3kxMqo-vwQYL",
        "colab": {
          "base_uri": "https://localhost:8080/",
          "height": 419
        },
        "outputId": "a8c97bb0-26cc-4830-bb7c-f481bad53b40"
      },
      "source": [
        "dframeprev"
      ],
      "execution_count": null,
      "outputs": [
        {
          "output_type": "execute_result",
          "data": {
            "text/html": [
              "<div>\n",
              "<style scoped>\n",
              "    .dataframe tbody tr th:only-of-type {\n",
              "        vertical-align: middle;\n",
              "    }\n",
              "\n",
              "    .dataframe tbody tr th {\n",
              "        vertical-align: top;\n",
              "    }\n",
              "\n",
              "    .dataframe thead th {\n",
              "        text-align: right;\n",
              "    }\n",
              "</style>\n",
              "<table border=\"1\" class=\"dataframe\">\n",
              "  <thead>\n",
              "    <tr style=\"text-align: right;\">\n",
              "      <th></th>\n",
              "      <th>Overs</th>\n",
              "      <th>Wickets</th>\n",
              "      <th>Runsatinstance</th>\n",
              "      <th>Batsman1score</th>\n",
              "      <th>Batsman2score</th>\n",
              "      <th>Currentpathnership</th>\n",
              "      <th>Finalscore</th>\n",
              "    </tr>\n",
              "  </thead>\n",
              "  <tbody>\n",
              "    <tr>\n",
              "      <th>124</th>\n",
              "      <td>20.1</td>\n",
              "      <td>1</td>\n",
              "      <td>66</td>\n",
              "      <td>34</td>\n",
              "      <td>27</td>\n",
              "      <td>53</td>\n",
              "      <td>212</td>\n",
              "    </tr>\n",
              "    <tr>\n",
              "      <th>125</th>\n",
              "      <td>20.2</td>\n",
              "      <td>1</td>\n",
              "      <td>67</td>\n",
              "      <td>28</td>\n",
              "      <td>34</td>\n",
              "      <td>54</td>\n",
              "      <td>212</td>\n",
              "    </tr>\n",
              "    <tr>\n",
              "      <th>126</th>\n",
              "      <td>20.3</td>\n",
              "      <td>1</td>\n",
              "      <td>68</td>\n",
              "      <td>29</td>\n",
              "      <td>34</td>\n",
              "      <td>55</td>\n",
              "      <td>212</td>\n",
              "    </tr>\n",
              "    <tr>\n",
              "      <th>127</th>\n",
              "      <td>20.4</td>\n",
              "      <td>1</td>\n",
              "      <td>68</td>\n",
              "      <td>34</td>\n",
              "      <td>29</td>\n",
              "      <td>55</td>\n",
              "      <td>212</td>\n",
              "    </tr>\n",
              "    <tr>\n",
              "      <th>128</th>\n",
              "      <td>20.5</td>\n",
              "      <td>2</td>\n",
              "      <td>68</td>\n",
              "      <td>29</td>\n",
              "      <td>34</td>\n",
              "      <td>0</td>\n",
              "      <td>212</td>\n",
              "    </tr>\n",
              "    <tr>\n",
              "      <th>...</th>\n",
              "      <td>...</td>\n",
              "      <td>...</td>\n",
              "      <td>...</td>\n",
              "      <td>...</td>\n",
              "      <td>...</td>\n",
              "      <td>...</td>\n",
              "      <td>...</td>\n",
              "    </tr>\n",
              "    <tr>\n",
              "      <th>298</th>\n",
              "      <td>49.3</td>\n",
              "      <td>7</td>\n",
              "      <td>265</td>\n",
              "      <td>134</td>\n",
              "      <td>28</td>\n",
              "      <td>1</td>\n",
              "      <td>269</td>\n",
              "    </tr>\n",
              "    <tr>\n",
              "      <th>299</th>\n",
              "      <td>49.4</td>\n",
              "      <td>7</td>\n",
              "      <td>266</td>\n",
              "      <td>29</td>\n",
              "      <td>0</td>\n",
              "      <td>2</td>\n",
              "      <td>269</td>\n",
              "    </tr>\n",
              "    <tr>\n",
              "      <th>300</th>\n",
              "      <td>49.5</td>\n",
              "      <td>7</td>\n",
              "      <td>267</td>\n",
              "      <td>1</td>\n",
              "      <td>29</td>\n",
              "      <td>3</td>\n",
              "      <td>269</td>\n",
              "    </tr>\n",
              "    <tr>\n",
              "      <th>301</th>\n",
              "      <td>49.6</td>\n",
              "      <td>8</td>\n",
              "      <td>268</td>\n",
              "      <td>29</td>\n",
              "      <td>2</td>\n",
              "      <td>0</td>\n",
              "      <td>269</td>\n",
              "    </tr>\n",
              "    <tr>\n",
              "      <th>302</th>\n",
              "      <td>49.7</td>\n",
              "      <td>8</td>\n",
              "      <td>269</td>\n",
              "      <td>3</td>\n",
              "      <td>29</td>\n",
              "      <td>1</td>\n",
              "      <td>269</td>\n",
              "    </tr>\n",
              "  </tbody>\n",
              "</table>\n",
              "<p>199123 rows × 7 columns</p>\n",
              "</div>"
            ],
            "text/plain": [
              "    Overs Wickets Runsatinstance  ... Batsman2score Currentpathnership Finalscore\n",
              "124  20.1       1             66  ...            27                 53        212\n",
              "125  20.2       1             67  ...            34                 54        212\n",
              "126  20.3       1             68  ...            34                 55        212\n",
              "127  20.4       1             68  ...            29                 55        212\n",
              "128  20.5       2             68  ...            34                  0        212\n",
              "..    ...     ...            ...  ...           ...                ...        ...\n",
              "298  49.3       7            265  ...            28                  1        269\n",
              "299  49.4       7            266  ...             0                  2        269\n",
              "300  49.5       7            267  ...            29                  3        269\n",
              "301  49.6       8            268  ...             2                  0        269\n",
              "302  49.7       8            269  ...            29                  1        269\n",
              "\n",
              "[199123 rows x 7 columns]"
            ]
          },
          "metadata": {
            "tags": []
          },
          "execution_count": 28
        }
      ]
    },
    {
      "cell_type": "code",
      "metadata": {
        "id": "gxEHpH5Q2s_A",
        "colab": {
          "base_uri": "https://localhost:8080/",
          "height": 136
        },
        "outputId": "999f4874-f075-412c-964e-7e3a42da946f"
      },
      "source": [
        "for column in dframeprev.columns:\n",
        "  print(column,\" :\" ,len(dframeprev[column].unique()))"
      ],
      "execution_count": null,
      "outputs": [
        {
          "output_type": "stream",
          "text": [
            "Overs  : 278\n",
            "Wickets  : 11\n",
            "Runsatinstance  : 430\n",
            "Batsman1score  : 230\n",
            "Batsman2score  : 209\n",
            "Currentpathnership  : 328\n",
            "Finalscore  : 281\n"
          ],
          "name": "stdout"
        }
      ]
    },
    {
      "cell_type": "code",
      "metadata": {
        "id": "AfTX8MwxSMV8"
      },
      "source": [
        "x = dframeprev.iloc[:,[0,1,2,3,4,5]].values #Selecting the features,Number of overs,Number of wickets,Runs at the instance,Batsman1score,Batsman2score,Current pathnership respectively\n",
        "y = dframeprev.iloc[:,6].values #This is the value we are going to predict.\n",
        "\n",
        "from sklearn.model_selection import train_test_split #Importing the function for slice the dataset into training and testing data sets.\n",
        "x_train,x_test,y_train,y_test = train_test_split(x,y,test_size=0.25,random_state=0) #Selecting 25% data rows randomly as test data."
      ],
      "execution_count": null,
      "outputs": []
    },
    {
      "cell_type": "code",
      "metadata": {
        "id": "2TpOMO-5jlR7"
      },
      "source": [
        "#Feature scaling the data as a preprocessing step.\n",
        "from sklearn.preprocessing import StandardScaler\n",
        "sc = StandardScaler()\n",
        "x_train = sc.fit_transform(x_train)\n",
        "x_test = sc.transform(x_test)\n"
      ],
      "execution_count": null,
      "outputs": []
    },
    {
      "cell_type": "code",
      "metadata": {
        "id": "njhhhfqFGfoG",
        "colab": {
          "base_uri": "https://localhost:8080/",
          "height": 136
        },
        "outputId": "2e1b2a86-7124-4cca-ce81-6994db641af9"
      },
      "source": [
        "from sklearn.ensemble import RandomForestRegressor\n",
        "model = RandomForestRegressor(n_estimators=100,max_features=None,random_state=5)\n",
        "model.fit(x_train,y_train)"
      ],
      "execution_count": null,
      "outputs": [
        {
          "output_type": "execute_result",
          "data": {
            "text/plain": [
              "RandomForestRegressor(bootstrap=True, ccp_alpha=0.0, criterion='mse',\n",
              "                      max_depth=None, max_features=None, max_leaf_nodes=None,\n",
              "                      max_samples=None, min_impurity_decrease=0.0,\n",
              "                      min_impurity_split=None, min_samples_leaf=1,\n",
              "                      min_samples_split=2, min_weight_fraction_leaf=0.0,\n",
              "                      n_estimators=100, n_jobs=None, oob_score=False,\n",
              "                      random_state=5, verbose=0, warm_start=False)"
            ]
          },
          "metadata": {
            "tags": []
          },
          "execution_count": 46
        }
      ]
    },
    {
      "cell_type": "code",
      "metadata": {
        "id": "qlr-bBQ9ln9e"
      },
      "source": [
        "#We only changed the number of decision trees as the hyperparameter. So, below list shows the number of trees we used at each iteration\n",
        "iterations=[5,10,20,50,100,200,500,1000]\n"
      ],
      "execution_count": null,
      "outputs": []
    },
    {
      "cell_type": "code",
      "metadata": {
        "id": "G6CYdTqbntj8"
      },
      "source": [
        "#To eveluate our model we have defined this custom function. By using this we can find that the percentage of times we have predicted the score closer than 15 runns.\n",
        "def success_rate(y_test,y_pred,thresold):\n",
        "    right = 0\n",
        "    l = len(y_pred)\n",
        "    for i in range(0,l):\n",
        "        if(abs(y_pred[i]-y_test[i]) <= thresold):\n",
        "            right += 1\n",
        "    return ((right/l)*100)\n",
        "\n",
        "\n",
        "\n",
        "#To find how the success rate and covarience change with respected to the number of decision trees in the forest.\n",
        "from sklearn.ensemble import RandomForestRegressor\n",
        "r_scores=[]\n",
        "successes=[]\n",
        "for r in iterations:\n",
        "  model = RandomForestRegressor(n_estimators=r,max_features=None,random_state=5)\n",
        "  model.fit(x_train,y_train)\n",
        "  y_pred = model.predict(x_test)\n",
        "  score = model.score(x_test,y_test)*100\n",
        "  success=success_rate(y_test,y_pred,15)\n",
        "  r_scores.append(score)\n",
        "  successes.append(success)"
      ],
      "execution_count": null,
      "outputs": []
    },
    {
      "cell_type": "code",
      "metadata": {
        "id": "6R9AvgHzpDy5",
        "colab": {
          "base_uri": "https://localhost:8080/",
          "height": 51
        },
        "outputId": "09f69c02-9377-4b01-db94-dfe1d3981d2e"
      },
      "source": [
        "#From this process we hope to predict the final score of the 1st innigs of a cricket match by feeding some data of a particular instance of that paticular match\n",
        "#The dofferece between real and predicted score is expected to be less than 15 runs. So by using test data we have written a function to calculate our sucees rate.\n",
        "#And it is given by custom accuracy.\n",
        "def success_rate(y_test,y_pred,thresold):\n",
        "    right = 0\n",
        "    l = len(y_pred)\n",
        "    for i in range(0,l):\n",
        "        if(abs(y_pred[i]-y_test[i]) <= thresold):\n",
        "            right += 1\n",
        "    return ((right/l)*100)\n",
        "\n",
        "y_pred = model.predict(x_test)\n",
        "score = model.score(x_test,y_test)*100\n",
        "print(\"R-squared value:\" , score)\n",
        "print(\"Success rate:\" , success_rate(y_test,y_pred,15))"
      ],
      "execution_count": null,
      "outputs": [
        {
          "output_type": "stream",
          "text": [
            "R-squared value: 92.9470258741691\n",
            "Success rate: 79.44999096040658\n"
          ],
          "name": "stdout"
        }
      ]
    },
    {
      "cell_type": "code",
      "metadata": {
        "id": "wiq7V1e1r8UF",
        "colab": {
          "base_uri": "https://localhost:8080/",
          "height": 34
        },
        "outputId": "d116f3f4-40e1-41f9-9686-b8a61840645e"
      },
      "source": [
        "import numpy as np\n",
        "#Here you can give the number of overs,wickets,current score,runs scored by the striker,runs scored by the non striker and current patnership respectively to predict tthe final score.\n",
        "new_prediction = model.predict(sc.transform(np.array([[20,2,130,40,40,60]])))\n",
        "print(\"Prediction score:\" , new_prediction)"
      ],
      "execution_count": null,
      "outputs": [
        {
          "output_type": "stream",
          "text": [
            "Prediction score: [352.25]\n"
          ],
          "name": "stdout"
        }
      ]
    },
    {
      "cell_type": "code",
      "metadata": {
        "id": "4Pc5OK2HWqsc"
      },
      "source": [
        "#Selecting a 100 random moments from matches and predict their final score. Then we plotted the predicted score vs actual scores corresponding to those moments.\n",
        "import random\n",
        "randommatches = []\n",
        "for i in range(0,100):\n",
        "  n = random.randint(0,len(y_test))\n",
        "  randommatches.append(n)\n",
        "\n",
        "\n",
        "realscores=[]\n",
        "predscores=[]\n",
        "for j in range(0,len(randommatches)):\n",
        "  realscores.append(y_test[randommatches[j]])\n",
        "  predscores.append(y_pred[randommatches[j]])\n",
        "\n",
        "\n"
      ],
      "execution_count": null,
      "outputs": []
    },
    {
      "cell_type": "code",
      "metadata": {
        "id": "mCqhXyhfQPYe",
        "colab": {
          "base_uri": "https://localhost:8080/",
          "height": 295
        },
        "outputId": "d94a8b3f-eb4a-443a-82fb-95bf06d820c2"
      },
      "source": [
        "import matplotlib.pyplot as plt\n",
        "\n",
        "x = np.linspace(0, 100, 100)\n",
        "y1 = realscores\n",
        "y2 = predscores\n",
        "\n",
        "image=plt.figure()\n",
        "plt.plot(x, y1, \"-r\", label=\"Actual score\")\n",
        "plt.plot(x, y2, \"-b\", label=\"Predicted score\")\n",
        "plt.legend(loc=\"lower right\")\n",
        "plt.title(\"Actual values vs predicted values of test data\")\n",
        "plt.xlabel(\"Instance number\")\n",
        "plt.ylabel(\"Final score\")\n",
        "plt.ylim(0,450)\n",
        "plt.show()\n",
        "image.savefig('image.png', dpi=1000)\n",
        "\n",
        "\n"
      ],
      "execution_count": null,
      "outputs": [
        {
          "output_type": "display_data",
          "data": {
            "image/png": "[encoded data removed]",
            "text/plain": [
              "<Figure size 432x288 with 1 Axes>"
            ]
          },
          "metadata": {
            "tags": [],
            "needs_background": "light"
          }
        }
      ]
    },
    {
      "cell_type": "code",
      "metadata": {
        "id": "TZ7YUvcUlk-a",
        "colab": {
          "base_uri": "https://localhost:8080/",
          "height": 163
        },
        "outputId": "4a24635f-0366-4f15-a4e1-5548a00ea31c"
      },
      "source": [
        "successes"
      ],
      "execution_count": null,
      "outputs": [
        {
          "output_type": "error",
          "ename": "NameError",
          "evalue": "ignored",
          "traceback": [
            "\u001b[0;31m---------------------------------------------------------------------------\u001b[0m",
            "\u001b[0;31mNameError\u001b[0m                                 Traceback (most recent call last)",
            "\u001b[0;32m<ipython-input-1-808d42e468aa>\u001b[0m in \u001b[0;36m<module>\u001b[0;34m()\u001b[0m\n\u001b[0;32m----> 1\u001b[0;31m \u001b[0msuccesses\u001b[0m\u001b[0;34m\u001b[0m\u001b[0;34m\u001b[0m\u001b[0m\n\u001b[0m",
            "\u001b[0;31mNameError\u001b[0m: name 'successes' is not defined"
          ]
        }
      ]
    },
    {
      "cell_type": "code",
      "metadata": {
        "id": "G4ZSOqCtYGbg"
      },
      "source": [
        "dframeprev = dframeprev.drop(dframeprev.columns[[6, 7, 8]], axis=1)  #"
      ],
      "execution_count": null,
      "outputs": []
    },
    {
      "cell_type": "code",
      "metadata": {
        "id": "cIfdS6ww2Hmq",
        "colab": {
          "base_uri": "https://localhost:8080/",
          "height": 419
        },
        "outputId": "acf68400-595b-4217-f3b4-380b0e3f1a95"
      },
      "source": [
        "dframeprev"
      ],
      "execution_count": null,
      "outputs": [
        {
          "output_type": "execute_result",
          "data": {
            "text/html": [
              "<div>\n",
              "<style scoped>\n",
              "    .dataframe tbody tr th:only-of-type {\n",
              "        vertical-align: middle;\n",
              "    }\n",
              "\n",
              "    .dataframe tbody tr th {\n",
              "        vertical-align: top;\n",
              "    }\n",
              "\n",
              "    .dataframe thead th {\n",
              "        text-align: right;\n",
              "    }\n",
              "</style>\n",
              "<table border=\"1\" class=\"dataframe\">\n",
              "  <thead>\n",
              "    <tr style=\"text-align: right;\">\n",
              "      <th></th>\n",
              "      <th>Overs</th>\n",
              "      <th>Wickets</th>\n",
              "      <th>Runsatinstance</th>\n",
              "      <th>Batsman1score</th>\n",
              "      <th>Batsman2score</th>\n",
              "      <th>Currentpathnership</th>\n",
              "      <th>Finalscore</th>\n",
              "    </tr>\n",
              "  </thead>\n",
              "  <tbody>\n",
              "    <tr>\n",
              "      <th>124</th>\n",
              "      <td>20.1</td>\n",
              "      <td>1</td>\n",
              "      <td>66</td>\n",
              "      <td>34</td>\n",
              "      <td>27</td>\n",
              "      <td>53</td>\n",
              "      <td>212</td>\n",
              "    </tr>\n",
              "    <tr>\n",
              "      <th>125</th>\n",
              "      <td>20.2</td>\n",
              "      <td>1</td>\n",
              "      <td>67</td>\n",
              "      <td>28</td>\n",
              "      <td>34</td>\n",
              "      <td>54</td>\n",
              "      <td>212</td>\n",
              "    </tr>\n",
              "    <tr>\n",
              "      <th>126</th>\n",
              "      <td>20.3</td>\n",
              "      <td>1</td>\n",
              "      <td>68</td>\n",
              "      <td>29</td>\n",
              "      <td>34</td>\n",
              "      <td>55</td>\n",
              "      <td>212</td>\n",
              "    </tr>\n",
              "    <tr>\n",
              "      <th>127</th>\n",
              "      <td>20.4</td>\n",
              "      <td>1</td>\n",
              "      <td>68</td>\n",
              "      <td>34</td>\n",
              "      <td>29</td>\n",
              "      <td>55</td>\n",
              "      <td>212</td>\n",
              "    </tr>\n",
              "    <tr>\n",
              "      <th>128</th>\n",
              "      <td>20.5</td>\n",
              "      <td>2</td>\n",
              "      <td>68</td>\n",
              "      <td>29</td>\n",
              "      <td>34</td>\n",
              "      <td>0</td>\n",
              "      <td>212</td>\n",
              "    </tr>\n",
              "    <tr>\n",
              "      <th>...</th>\n",
              "      <td>...</td>\n",
              "      <td>...</td>\n",
              "      <td>...</td>\n",
              "      <td>...</td>\n",
              "      <td>...</td>\n",
              "      <td>...</td>\n",
              "      <td>...</td>\n",
              "    </tr>\n",
              "    <tr>\n",
              "      <th>298</th>\n",
              "      <td>49.3</td>\n",
              "      <td>7</td>\n",
              "      <td>265</td>\n",
              "      <td>134</td>\n",
              "      <td>28</td>\n",
              "      <td>1</td>\n",
              "      <td>269</td>\n",
              "    </tr>\n",
              "    <tr>\n",
              "      <th>299</th>\n",
              "      <td>49.4</td>\n",
              "      <td>7</td>\n",
              "      <td>266</td>\n",
              "      <td>29</td>\n",
              "      <td>0</td>\n",
              "      <td>2</td>\n",
              "      <td>269</td>\n",
              "    </tr>\n",
              "    <tr>\n",
              "      <th>300</th>\n",
              "      <td>49.5</td>\n",
              "      <td>7</td>\n",
              "      <td>267</td>\n",
              "      <td>1</td>\n",
              "      <td>29</td>\n",
              "      <td>3</td>\n",
              "      <td>269</td>\n",
              "    </tr>\n",
              "    <tr>\n",
              "      <th>301</th>\n",
              "      <td>49.6</td>\n",
              "      <td>8</td>\n",
              "      <td>268</td>\n",
              "      <td>29</td>\n",
              "      <td>2</td>\n",
              "      <td>0</td>\n",
              "      <td>269</td>\n",
              "    </tr>\n",
              "    <tr>\n",
              "      <th>302</th>\n",
              "      <td>49.7</td>\n",
              "      <td>8</td>\n",
              "      <td>269</td>\n",
              "      <td>3</td>\n",
              "      <td>29</td>\n",
              "      <td>1</td>\n",
              "      <td>269</td>\n",
              "    </tr>\n",
              "  </tbody>\n",
              "</table>\n",
              "<p>199123 rows × 7 columns</p>\n",
              "</div>"
            ],
            "text/plain": [
              "    Overs Wickets Runsatinstance  ... Batsman2score Currentpathnership Finalscore\n",
              "124  20.1       1             66  ...            27                 53        212\n",
              "125  20.2       1             67  ...            34                 54        212\n",
              "126  20.3       1             68  ...            34                 55        212\n",
              "127  20.4       1             68  ...            29                 55        212\n",
              "128  20.5       2             68  ...            34                  0        212\n",
              "..    ...     ...            ...  ...           ...                ...        ...\n",
              "298  49.3       7            265  ...            28                  1        269\n",
              "299  49.4       7            266  ...             0                  2        269\n",
              "300  49.5       7            267  ...            29                  3        269\n",
              "301  49.6       8            268  ...             2                  0        269\n",
              "302  49.7       8            269  ...            29                  1        269\n",
              "\n",
              "[199123 rows x 7 columns]"
            ]
          },
          "metadata": {
            "tags": []
          },
          "execution_count": 25
        }
      ]
    },
    {
      "cell_type": "code",
      "metadata": {
        "id": "BRAD5jZ12r1u",
        "colab": {
          "base_uri": "https://localhost:8080/",
          "height": 153
        },
        "outputId": "22f4ffa6-f7b4-42bb-9630-c8f6b27bd129"
      },
      "source": [
        "r_scores"
      ],
      "execution_count": null,
      "outputs": [
        {
          "output_type": "execute_result",
          "data": {
            "text/plain": [
              "[90.48367044822456,\n",
              " 91.74850404723546,\n",
              " 92.4334260226643,\n",
              " 92.81021377742839,\n",
              " 92.9470258741691,\n",
              " 93.03559317198848,\n",
              " 93.08656174520948,\n",
              " 93.09519458423058]"
            ]
          },
          "metadata": {
            "tags": []
          },
          "execution_count": 34
        }
      ]
    },
    {
      "cell_type": "code",
      "metadata": {
        "id": "NKCPzcL3DMH2",
        "colab": {
          "base_uri": "https://localhost:8080/",
          "height": 153
        },
        "outputId": "53ff4447-1f46-473e-a74b-1ef2ab4392d2"
      },
      "source": [
        "successes"
      ],
      "execution_count": null,
      "outputs": [
        {
          "output_type": "execute_result",
          "data": {
            "text/plain": [
              "[75.04670456599908,\n",
              " 77.11375826118399,\n",
              " 78.39938932524457,\n",
              " 79.18482955344408,\n",
              " 79.44999096040658,\n",
              " 79.58658926096301,\n",
              " 79.70309957614352,\n",
              " 79.73724915128261]"
            ]
          },
          "metadata": {
            "tags": []
          },
          "execution_count": 37
        }
      ]
    },
    {
      "cell_type": "code",
      "metadata": {
        "id": "K9jY84jIDZx4",
        "colab": {
          "base_uri": "https://localhost:8080/",
          "height": 295
        },
        "outputId": "0a853df8-ae8a-4dcb-b9a4-36aad18f2a8d"
      },
      "source": [
        "#THe change of covarience between predicted and actual score with respect to the number of decision trees.\n",
        "covariance=plt.figure()\n",
        "plt.plot(iterations,r_scores, \"-r\") #label=\"Covarience between actual and predicted scores\")\n",
        "#plt.plot(iterations,successes, \"-b\")\n",
        "#plt.legend()\n",
        "plt.title(\"Covariance between testing scores and predicted scores vs Number of Decission Trees\")\n",
        "plt.xlabel(\"Number of Decision Trees\")\n",
        "plt.ylabel(\"Covariance\")\n",
        "plt.ylim(90,95)\n",
        "plt.show()\n",
        "covariance.savefig('covariance.png', dpi=1000)"
      ],
      "execution_count": null,
      "outputs": [
        {
          "output_type": "display_data",
          "data": {
            "image/png": "[encoded data removed]",
            "text/plain": [
              "<Figure size 432x288 with 1 Axes>"
            ]
          },
          "metadata": {
            "tags": [],
            "needs_background": "light"
          }
        }
      ]
    },
    {
      "cell_type": "code",
      "metadata": {
        "id": "GQJy8ipaFANQ",
        "colab": {
          "base_uri": "https://localhost:8080/",
          "height": 296
        },
        "outputId": "d294491a-6aa3-41b6-b883-d32aa6353125"
      },
      "source": [
        "columns=['Number of Overs','Number of Wickets','Runsatinstance','Batsman1 Score','Batsman2 Score','Current Pathnership']\n",
        "\n",
        "\n",
        "from sklearn.inspection import permutation_importance\n",
        "perm_importance = permutation_importance(model, x_test, y_test)\n",
        "featureimportance=plt.figure()\n",
        "sorted_idx = perm_importance.importances_mean.argsort()\n",
        "plt.barh(columns, perm_importance.importances_mean[sorted_idx])\n",
        "plt.xlabel(\"Feature Importance\")\n",
        "featureimportance.savefig('featureimportance.png', dpi=1000)\n"
      ],
      "execution_count": null,
      "outputs": [
        {
          "output_type": "execute_result",
          "data": {
            "text/plain": [
              "Text(0.5, 0, 'Feature Importances')"
            ]
          },
          "metadata": {
            "tags": []
          },
          "execution_count": 48
        },
        {
          "output_type": "display_data",
          "data": {
            "image/png": "[encoded data removed]",
            "text/plain": [
              "<Figure size 432x288 with 1 Axes>"
            ]
          },
          "metadata": {
            "tags": [],
            "needs_background": "light"
          }
        }
      ]
    },
    {
      "cell_type": "code",
      "metadata": {
        "id": "GDguWFSvIxCv",
        "colab": {
          "base_uri": "https://localhost:8080/",
          "height": 321
        },
        "outputId": "65b6279d-99f7-473c-a420-2007783175ba"
      },
      "source": [
        "\n",
        "featureimportance=plt.figure()\n",
        "\n",
        "importances = model.feature_importances_\n",
        "indices = np.argsort(importances)[::-1]\n",
        "names = [dframeprev.columns[i] for i in indices]\n",
        "\n",
        "\n",
        "\n",
        "plt.bar(range(x_train.shape[1]), importances[indices])\n",
        "# Add feature names as x-axis labels\n",
        "plt.xticks(range(x_train.shape[1]), names, rotation=20, fontsize = 8)\n",
        "# Create plot title\n",
        "plt.title(\"Feature Importances\")\n",
        "plt.xlabel(\"Feature Name\")\n",
        "plt.ylabel(\"Feature Importance\")\n",
        "# Show plot\n",
        "plt.show()\n",
        "featureimportance.savefig('featureimportance.png', dpi=1000)"
      ],
      "execution_count": null,
      "outputs": [
        {
          "output_type": "display_data",
          "data": {
            "image/png": "[encoded data removed]",
            "text/plain": [
              "<Figure size 432x288 with 1 Axes>"
            ]
          },
          "metadata": {
            "tags": [],
            "needs_background": "light"
          }
        }
      ]
    },
    {
      "cell_type": "code",
      "metadata": {
        "id": "psNYTj_wN3_b"
      },
      "source": [],
      "execution_count": null,
      "outputs": []
    }
  ]
}